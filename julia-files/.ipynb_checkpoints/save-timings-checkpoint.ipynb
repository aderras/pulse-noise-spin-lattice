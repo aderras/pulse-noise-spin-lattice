{
 "cells": [
  {
   "cell_type": "code",
   "execution_count": 1,
   "metadata": {},
   "outputs": [],
   "source": [
    "push!(LOAD_PATH, pwd());"
   ]
  },
  {
   "cell_type": "code",
   "execution_count": 2,
   "metadata": {},
   "outputs": [
    {
     "name": "stderr",
     "output_type": "stream",
     "text": [
      "┌ Info: Recompiling stale cache file /Users/aderras/.julia/compiled/v1.0/ddiFunctions.ji for ddiFunctions [top-level]\n",
      "└ @ Base loading.jl:1190\n",
      "ERROR: LoadError: syntax: unexpected \"=\"\n",
      "Stacktrace:\n",
      " [1] include at ./boot.jl:317 [inlined]\n",
      " [2] include_relative(::Module, ::String) at ./loading.jl:1044\n",
      " [3] include(::Module, ::String) at ./sysimg.jl:29\n",
      " [4] top-level scope at none:2\n",
      " [5] eval at ./boot.jl:319 [inlined]\n",
      " [6] eval(::Expr) at ./client.jl:393\n",
      " [7] top-level scope at ./none:3\n",
      "in expression starting at /Users/aderras/Documents/skyrmion-collapse-ddi/julia-files/ddiFunctions.jl:8\n"
     ]
    },
    {
     "ename": "ErrorException",
     "evalue": "Failed to precompile ddiFunctions [top-level] to /Users/aderras/.julia/compiled/v1.0/ddiFunctions.ji.",
     "output_type": "error",
     "traceback": [
      "Failed to precompile ddiFunctions [top-level] to /Users/aderras/.julia/compiled/v1.0/ddiFunctions.ji.",
      "",
      "Stacktrace:",
      " [1] error(::String) at ./error.jl:33",
      " [2] compilecache(::Base.PkgId, ::String) at ./loading.jl:1203",
      " [3] _require(::Base.PkgId) at ./loading.jl:960",
      " [4] require(::Base.PkgId) at ./loading.jl:858",
      " [5] require(::Module, ::Symbol) at ./loading.jl:853",
      " [6] top-level scope at In[2]:1"
     ]
    }
   ],
   "source": [
    "# The following files contain user-made functions\n",
    "using ddiFunctions, initialCondition, calculateEnergy, \n",
    "calculateEffectiveField, rungeKutta, LLequation, \n",
    "ddiFunctions;"
   ]
  },
  {
   "cell_type": "code",
   "execution_count": 3,
   "metadata": {},
   "outputs": [],
   "source": [
    "# Include julia-made performance tests, FFTW library\n",
    "using FFTW, BenchmarkTools, DelimitedFiles;"
   ]
  },
  {
   "cell_type": "code",
   "execution_count": 4,
   "metadata": {},
   "outputs": [],
   "source": [
    "########################################################\n",
    "# Change any values you want here, and evaluate notebok\n",
    "# results are saved in the folder timing-data/, and are\n",
    "# overwritted every time this notebook evaluates. \n",
    "\n",
    "# Parameters\n",
    "nx = ny = 101; # lattice size\n",
    "\n",
    "rinit = 10; # initial skyrmion radius\n",
    "drinit = 0; # initial distance b/w skyrmion antiskyrmion\n",
    "\n",
    "j = 1.0; h = -0.0; dmi = 0.0; pma = 0.1; ed = 0.00795775;\n",
    "pbc = false;\n",
    "params = [j, h, dmi, pma, ed, pbc];\n",
    "\n",
    "tfree = 20.0; nSteps = 50; tRK = tfree/2; damping = 0.0;\n",
    "evalParams = [tRK, nSteps, damping];\n",
    "\n",
    "# Initialize storage\n",
    "matx = zeros(nx,ny);\n",
    "resfft = zeros(nx,ny);\n",
    "eff = Array{Float64}(undef,3);"
   ]
  },
  {
   "cell_type": "code",
   "execution_count": 5,
   "metadata": {},
   "outputs": [
    {
     "ename": "UndefVarError",
     "evalue": "UndefVarError: buildInitial not defined",
     "output_type": "error",
     "traceback": [
      "UndefVarError: buildInitial not defined",
      "",
      "Stacktrace:",
      " [1] top-level scope at In[5]:1"
     ]
    }
   ],
   "source": [
    "# build a skyrmion, and make pointer to just x components\n",
    "s0 = buildInitial(rinit, drinit, nx, ny);\n",
    "matx = s0[1,:,:];\n",
    "\n",
    "# get [VDxx, VDyy, VDzz, VDxy]\n",
    "vdd = vddMatrices(nx, ny); "
   ]
  },
  {
   "cell_type": "code",
   "execution_count": 6,
   "metadata": {},
   "outputs": [
    {
     "ename": "UndefVarError",
     "evalue": "UndefVarError: vdd not defined",
     "output_type": "error",
     "traceback": [
      "UndefVarError: vdd not defined",
      "",
      "Stacktrace:",
      " [1] ##core#363() at /Users/aderras/.julia/packages/BenchmarkTools/mVOqg/src/execution.jl:297",
      " [2] ##sample#364(::BenchmarkTools.Parameters) at /Users/aderras/.julia/packages/BenchmarkTools/mVOqg/src/execution.jl:303",
      " [3] #_run#3(::Bool, ::String, ::Base.Iterators.Pairs{Symbol,Integer,NTuple{4,Symbol},NamedTuple{(:samples, :evals, :gctrial, :gcsample),Tuple{Int64,Int64,Bool,Bool}}}, ::Function, ::BenchmarkTools.Benchmark{Symbol(\"##benchmark#362\")}, ::BenchmarkTools.Parameters) at /Users/aderras/.julia/packages/BenchmarkTools/mVOqg/src/execution.jl:331",
      " [4] (::getfield(Base, Symbol(\"#inner#2\")){Base.Iterators.Pairs{Symbol,Integer,NTuple{5,Symbol},NamedTuple{(:verbose, :samples, :evals, :gctrial, :gcsample),Tuple{Bool,Int64,Int64,Bool,Bool}}},typeof(BenchmarkTools._run),Tuple{BenchmarkTools.Benchmark{Symbol(\"##benchmark#362\")},BenchmarkTools.Parameters}})() at ./none:0",
      " [5] #invokelatest#1 at ./essentials.jl:701 [inlined]",
      " [6] #invokelatest at ./none:0 [inlined]",
      " [7] #run_result#19 at /Users/aderras/.julia/packages/BenchmarkTools/mVOqg/src/execution.jl:32 [inlined]",
      " [8] #run_result at ./none:0 [inlined]",
      " [9] #run#21(::Base.Iterators.Pairs{Symbol,Integer,NTuple{5,Symbol},NamedTuple{(:verbose, :samples, :evals, :gctrial, :gcsample),Tuple{Bool,Int64,Int64,Bool,Bool}}}, ::Function, ::BenchmarkTools.Benchmark{Symbol(\"##benchmark#362\")}, ::BenchmarkTools.Parameters) at /Users/aderras/.julia/packages/BenchmarkTools/mVOqg/src/execution.jl:46",
      " [10] #run at ./none:0 [inlined] (repeats 2 times)",
      " [11] #warmup#24 at /Users/aderras/.julia/packages/BenchmarkTools/mVOqg/src/execution.jl:79 [inlined]",
      " [12] warmup(::BenchmarkTools.Benchmark{Symbol(\"##benchmark#362\")}) at /Users/aderras/.julia/packages/BenchmarkTools/mVOqg/src/execution.jl:79",
      " [13] top-level scope at /Users/aderras/.julia/packages/BenchmarkTools/mVOqg/src/execution.jl:213",
      " [14] top-level scope at In[6]:1"
     ]
    }
   ],
   "source": [
    "val = @benchmark convfft(matx,vdd[1]);\n",
    "filename = string(pwd(),\"/timing-data/convolve-fft.csv\");\n",
    "\n",
    "writedlm(filename, string(val))"
   ]
  },
  {
   "cell_type": "code",
   "execution_count": 7,
   "metadata": {},
   "outputs": [
    {
     "ename": "UndefVarError",
     "evalue": "UndefVarError: FHD not defined",
     "output_type": "error",
     "traceback": [
      "UndefVarError: FHD not defined",
      "",
      "Stacktrace:",
      " [1] ##core#367() at /Users/aderras/.julia/packages/BenchmarkTools/mVOqg/src/execution.jl:297",
      " [2] ##sample#368(::BenchmarkTools.Parameters) at /Users/aderras/.julia/packages/BenchmarkTools/mVOqg/src/execution.jl:303",
      " [3] #_run#4(::Bool, ::String, ::Base.Iterators.Pairs{Symbol,Integer,NTuple{4,Symbol},NamedTuple{(:samples, :evals, :gctrial, :gcsample),Tuple{Int64,Int64,Bool,Bool}}}, ::Function, ::BenchmarkTools.Benchmark{Symbol(\"##benchmark#366\")}, ::BenchmarkTools.Parameters) at /Users/aderras/.julia/packages/BenchmarkTools/mVOqg/src/execution.jl:331",
      " [4] (::getfield(Base, Symbol(\"#inner#2\")){Base.Iterators.Pairs{Symbol,Integer,NTuple{5,Symbol},NamedTuple{(:verbose, :samples, :evals, :gctrial, :gcsample),Tuple{Bool,Int64,Int64,Bool,Bool}}},typeof(BenchmarkTools._run),Tuple{BenchmarkTools.Benchmark{Symbol(\"##benchmark#366\")},BenchmarkTools.Parameters}})() at ./none:0",
      " [5] #invokelatest#1 at ./essentials.jl:701 [inlined]",
      " [6] #invokelatest at ./none:0 [inlined]",
      " [7] #run_result#19 at /Users/aderras/.julia/packages/BenchmarkTools/mVOqg/src/execution.jl:32 [inlined]",
      " [8] #run_result at ./none:0 [inlined]",
      " [9] #run#21(::Base.Iterators.Pairs{Symbol,Integer,NTuple{5,Symbol},NamedTuple{(:verbose, :samples, :evals, :gctrial, :gcsample),Tuple{Bool,Int64,Int64,Bool,Bool}}}, ::Function, ::BenchmarkTools.Benchmark{Symbol(\"##benchmark#366\")}, ::BenchmarkTools.Parameters) at /Users/aderras/.julia/packages/BenchmarkTools/mVOqg/src/execution.jl:46",
      " [10] #run at ./none:0 [inlined] (repeats 2 times)",
      " [11] #warmup#24 at /Users/aderras/.julia/packages/BenchmarkTools/mVOqg/src/execution.jl:79 [inlined]",
      " [12] warmup(::BenchmarkTools.Benchmark{Symbol(\"##benchmark#366\")}) at /Users/aderras/.julia/packages/BenchmarkTools/mVOqg/src/execution.jl:79",
      " [13] top-level scope at /Users/aderras/.julia/packages/BenchmarkTools/mVOqg/src/execution.jl:213",
      " [14] top-level scope at In[7]:1"
     ]
    }
   ],
   "source": [
    "val = @benchmark FHD(s0,vdd);\n",
    "filename = string(pwd(),\"/timing-data/fhd.csv\");\n",
    "\n",
    "writedlm(filename, string(val))"
   ]
  },
  {
   "cell_type": "code",
   "execution_count": 8,
   "metadata": {},
   "outputs": [
    {
     "ename": "UndefVarError",
     "evalue": "UndefVarError: calcEnergy not defined",
     "output_type": "error",
     "traceback": [
      "UndefVarError: calcEnergy not defined",
      "",
      "Stacktrace:",
      " [1] ##core#371() at /Users/aderras/.julia/packages/BenchmarkTools/mVOqg/src/execution.jl:297",
      " [2] ##sample#372(::BenchmarkTools.Parameters) at /Users/aderras/.julia/packages/BenchmarkTools/mVOqg/src/execution.jl:303",
      " [3] #_run#5(::Bool, ::String, ::Base.Iterators.Pairs{Symbol,Integer,NTuple{4,Symbol},NamedTuple{(:samples, :evals, :gctrial, :gcsample),Tuple{Int64,Int64,Bool,Bool}}}, ::Function, ::BenchmarkTools.Benchmark{Symbol(\"##benchmark#370\")}, ::BenchmarkTools.Parameters) at /Users/aderras/.julia/packages/BenchmarkTools/mVOqg/src/execution.jl:331",
      " [4] (::getfield(Base, Symbol(\"#inner#2\")){Base.Iterators.Pairs{Symbol,Integer,NTuple{5,Symbol},NamedTuple{(:verbose, :samples, :evals, :gctrial, :gcsample),Tuple{Bool,Int64,Int64,Bool,Bool}}},typeof(BenchmarkTools._run),Tuple{BenchmarkTools.Benchmark{Symbol(\"##benchmark#370\")},BenchmarkTools.Parameters}})() at ./none:0",
      " [5] #invokelatest#1 at ./essentials.jl:701 [inlined]",
      " [6] #invokelatest at ./none:0 [inlined]",
      " [7] #run_result#19 at /Users/aderras/.julia/packages/BenchmarkTools/mVOqg/src/execution.jl:32 [inlined]",
      " [8] #run_result at ./none:0 [inlined]",
      " [9] #run#21(::Base.Iterators.Pairs{Symbol,Integer,NTuple{5,Symbol},NamedTuple{(:verbose, :samples, :evals, :gctrial, :gcsample),Tuple{Bool,Int64,Int64,Bool,Bool}}}, ::Function, ::BenchmarkTools.Benchmark{Symbol(\"##benchmark#370\")}, ::BenchmarkTools.Parameters) at /Users/aderras/.julia/packages/BenchmarkTools/mVOqg/src/execution.jl:46",
      " [10] #run at ./none:0 [inlined] (repeats 2 times)",
      " [11] #warmup#24 at /Users/aderras/.julia/packages/BenchmarkTools/mVOqg/src/execution.jl:79 [inlined]",
      " [12] warmup(::BenchmarkTools.Benchmark{Symbol(\"##benchmark#370\")}) at /Users/aderras/.julia/packages/BenchmarkTools/mVOqg/src/execution.jl:79",
      " [13] top-level scope at /Users/aderras/.julia/packages/BenchmarkTools/mVOqg/src/execution.jl:213",
      " [14] top-level scope at In[8]:1"
     ]
    }
   ],
   "source": [
    "val = @benchmark calcEnergy(s0, params);\n",
    "filename = string(pwd(),\"/timing-data/energy.csv\");\n",
    "\n",
    "writedlm(filename, string(val))"
   ]
  },
  {
   "cell_type": "code",
   "execution_count": 9,
   "metadata": {},
   "outputs": [
    {
     "ename": "UndefVarError",
     "evalue": "UndefVarError: getFullEffField! not defined",
     "output_type": "error",
     "traceback": [
      "UndefVarError: getFullEffField! not defined",
      "",
      "Stacktrace:",
      " [1] ##core#375() at /Users/aderras/.julia/packages/BenchmarkTools/mVOqg/src/execution.jl:297",
      " [2] ##sample#376(::BenchmarkTools.Parameters) at /Users/aderras/.julia/packages/BenchmarkTools/mVOqg/src/execution.jl:303",
      " [3] #_run#6(::Bool, ::String, ::Base.Iterators.Pairs{Symbol,Integer,NTuple{4,Symbol},NamedTuple{(:samples, :evals, :gctrial, :gcsample),Tuple{Int64,Int64,Bool,Bool}}}, ::Function, ::BenchmarkTools.Benchmark{Symbol(\"##benchmark#374\")}, ::BenchmarkTools.Parameters) at /Users/aderras/.julia/packages/BenchmarkTools/mVOqg/src/execution.jl:331",
      " [4] (::getfield(Base, Symbol(\"#inner#2\")){Base.Iterators.Pairs{Symbol,Integer,NTuple{5,Symbol},NamedTuple{(:verbose, :samples, :evals, :gctrial, :gcsample),Tuple{Bool,Int64,Int64,Bool,Bool}}},typeof(BenchmarkTools._run),Tuple{BenchmarkTools.Benchmark{Symbol(\"##benchmark#374\")},BenchmarkTools.Parameters}})() at ./none:0",
      " [5] #invokelatest#1 at ./essentials.jl:701 [inlined]",
      " [6] #invokelatest at ./none:0 [inlined]",
      " [7] #run_result#19 at /Users/aderras/.julia/packages/BenchmarkTools/mVOqg/src/execution.jl:32 [inlined]",
      " [8] #run_result at ./none:0 [inlined]",
      " [9] #run#21(::Base.Iterators.Pairs{Symbol,Integer,NTuple{5,Symbol},NamedTuple{(:verbose, :samples, :evals, :gctrial, :gcsample),Tuple{Bool,Int64,Int64,Bool,Bool}}}, ::Function, ::BenchmarkTools.Benchmark{Symbol(\"##benchmark#374\")}, ::BenchmarkTools.Parameters) at /Users/aderras/.julia/packages/BenchmarkTools/mVOqg/src/execution.jl:46",
      " [10] #run at ./none:0 [inlined] (repeats 2 times)",
      " [11] #warmup#24 at /Users/aderras/.julia/packages/BenchmarkTools/mVOqg/src/execution.jl:79 [inlined]",
      " [12] warmup(::BenchmarkTools.Benchmark{Symbol(\"##benchmark#374\")}) at /Users/aderras/.julia/packages/BenchmarkTools/mVOqg/src/execution.jl:79",
      " [13] top-level scope at /Users/aderras/.julia/packages/BenchmarkTools/mVOqg/src/execution.jl:213",
      " [14] top-level scope at In[9]:1"
     ]
    }
   ],
   "source": [
    "val = @benchmark getFullEffField!(s0,eff,params);\n",
    "filename = string(pwd(),\"/timing-data/effectiveField.csv\");\n",
    "\n",
    "writedlm(filename, string(val))"
   ]
  },
  {
   "cell_type": "code",
   "execution_count": 10,
   "metadata": {},
   "outputs": [
    {
     "ename": "UndefVarError",
     "evalue": "UndefVarError: rk4! not defined",
     "output_type": "error",
     "traceback": [
      "UndefVarError: rk4! not defined",
      "",
      "Stacktrace:",
      " [1] ##core#379() at /Users/aderras/.julia/packages/BenchmarkTools/mVOqg/src/execution.jl:297",
      " [2] ##sample#380(::BenchmarkTools.Parameters) at /Users/aderras/.julia/packages/BenchmarkTools/mVOqg/src/execution.jl:303",
      " [3] #_run#7(::Bool, ::String, ::Base.Iterators.Pairs{Symbol,Integer,NTuple{4,Symbol},NamedTuple{(:samples, :evals, :gctrial, :gcsample),Tuple{Int64,Int64,Bool,Bool}}}, ::Function, ::BenchmarkTools.Benchmark{Symbol(\"##benchmark#378\")}, ::BenchmarkTools.Parameters) at /Users/aderras/.julia/packages/BenchmarkTools/mVOqg/src/execution.jl:331",
      " [4] (::getfield(Base, Symbol(\"#inner#2\")){Base.Iterators.Pairs{Symbol,Integer,NTuple{5,Symbol},NamedTuple{(:verbose, :samples, :evals, :gctrial, :gcsample),Tuple{Bool,Int64,Int64,Bool,Bool}}},typeof(BenchmarkTools._run),Tuple{BenchmarkTools.Benchmark{Symbol(\"##benchmark#378\")},BenchmarkTools.Parameters}})() at ./none:0",
      " [5] #invokelatest#1 at ./essentials.jl:701 [inlined]",
      " [6] #invokelatest at ./none:0 [inlined]",
      " [7] #run_result#19 at /Users/aderras/.julia/packages/BenchmarkTools/mVOqg/src/execution.jl:32 [inlined]",
      " [8] #run_result at ./none:0 [inlined]",
      " [9] #run#21(::Base.Iterators.Pairs{Symbol,Integer,NTuple{5,Symbol},NamedTuple{(:verbose, :samples, :evals, :gctrial, :gcsample),Tuple{Bool,Int64,Int64,Bool,Bool}}}, ::Function, ::BenchmarkTools.Benchmark{Symbol(\"##benchmark#378\")}, ::BenchmarkTools.Parameters) at /Users/aderras/.julia/packages/BenchmarkTools/mVOqg/src/execution.jl:46",
      " [10] #run at ./none:0 [inlined] (repeats 2 times)",
      " [11] #warmup#24 at /Users/aderras/.julia/packages/BenchmarkTools/mVOqg/src/execution.jl:79 [inlined]",
      " [12] warmup(::BenchmarkTools.Benchmark{Symbol(\"##benchmark#378\")}) at /Users/aderras/.julia/packages/BenchmarkTools/mVOqg/src/execution.jl:79",
      " [13] top-level scope at /Users/aderras/.julia/packages/BenchmarkTools/mVOqg/src/execution.jl:213",
      " [14] top-level scope at In[10]:1"
     ]
    }
   ],
   "source": [
    "val = @benchmark rk4!(s0, RHS!, params, evalParams);\n",
    "filename = string(pwd(),\"/timing-data/rungeKutta.csv\");\n",
    "\n",
    "writedlm(filename, string(val))"
   ]
  },
  {
   "cell_type": "code",
   "execution_count": 11,
   "metadata": {},
   "outputs": [
    {
     "ename": "UndefVarError",
     "evalue": "UndefVarError: vdd not defined",
     "output_type": "error",
     "traceback": [
      "UndefVarError: vdd not defined",
      "",
      "Stacktrace:",
      " [1] ##core#383() at /Users/aderras/.julia/packages/BenchmarkTools/mVOqg/src/execution.jl:297",
      " [2] ##sample#384(::BenchmarkTools.Parameters) at /Users/aderras/.julia/packages/BenchmarkTools/mVOqg/src/execution.jl:303",
      " [3] #_run#8(::Bool, ::String, ::Base.Iterators.Pairs{Symbol,Integer,NTuple{4,Symbol},NamedTuple{(:samples, :evals, :gctrial, :gcsample),Tuple{Int64,Int64,Bool,Bool}}}, ::Function, ::BenchmarkTools.Benchmark{Symbol(\"##benchmark#382\")}, ::BenchmarkTools.Parameters) at /Users/aderras/.julia/packages/BenchmarkTools/mVOqg/src/execution.jl:331",
      " [4] (::getfield(Base, Symbol(\"#inner#2\")){Base.Iterators.Pairs{Symbol,Integer,NTuple{5,Symbol},NamedTuple{(:verbose, :samples, :evals, :gctrial, :gcsample),Tuple{Bool,Int64,Int64,Bool,Bool}}},typeof(BenchmarkTools._run),Tuple{BenchmarkTools.Benchmark{Symbol(\"##benchmark#382\")},BenchmarkTools.Parameters}})() at ./none:0",
      " [5] #invokelatest#1 at ./essentials.jl:701 [inlined]",
      " [6] #invokelatest at ./none:0 [inlined]",
      " [7] #run_result#19 at /Users/aderras/.julia/packages/BenchmarkTools/mVOqg/src/execution.jl:32 [inlined]",
      " [8] #run_result at ./none:0 [inlined]",
      " [9] #run#21(::Base.Iterators.Pairs{Symbol,Integer,NTuple{5,Symbol},NamedTuple{(:verbose, :samples, :evals, :gctrial, :gcsample),Tuple{Bool,Int64,Int64,Bool,Bool}}}, ::Function, ::BenchmarkTools.Benchmark{Symbol(\"##benchmark#382\")}, ::BenchmarkTools.Parameters) at /Users/aderras/.julia/packages/BenchmarkTools/mVOqg/src/execution.jl:46",
      " [10] #run at ./none:0 [inlined] (repeats 2 times)",
      " [11] #warmup#24 at /Users/aderras/.julia/packages/BenchmarkTools/mVOqg/src/execution.jl:79 [inlined]",
      " [12] warmup(::BenchmarkTools.Benchmark{Symbol(\"##benchmark#382\")}) at /Users/aderras/.julia/packages/BenchmarkTools/mVOqg/src/execution.jl:79",
      " [13] top-level scope at /Users/aderras/.julia/packages/BenchmarkTools/mVOqg/src/execution.jl:213",
      " [14] top-level scope at In[11]:2"
     ]
    }
   ],
   "source": [
    "FFTW.set_num_threads(2);\n",
    "val = @benchmark convfft(matx,vdd[1]);\n",
    "filename = string(pwd(),\"/timing-data/convolve-fft-2-threads.csv\");\n",
    "writedlm(filename, string(val));"
   ]
  }
 ],
 "metadata": {
  "kernelspec": {
   "display_name": "Julia 1.0.4",
   "language": "julia",
   "name": "julia-1.0"
  },
  "language_info": {
   "file_extension": ".jl",
   "mimetype": "application/julia",
   "name": "julia",
   "version": "1.0.4"
  }
 },
 "nbformat": 4,
 "nbformat_minor": 2
}
