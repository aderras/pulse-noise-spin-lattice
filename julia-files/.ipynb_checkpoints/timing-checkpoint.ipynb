{
 "cells": [
  {
   "cell_type": "code",
   "execution_count": 1,
   "metadata": {},
   "outputs": [],
   "source": [
    "push!(LOAD_PATH, pwd());"
   ]
  },
  {
   "cell_type": "code",
   "execution_count": 19,
   "metadata": {},
   "outputs": [],
   "source": [
    "# The following files contain user-made functions\n",
    "using ddiFunctions, initialCondition, calculateEnergy, \n",
    "calculateEffectiveField, rungeKutta, LLequation;"
   ]
  },
  {
   "cell_type": "code",
   "execution_count": 3,
   "metadata": {},
   "outputs": [],
   "source": [
    "# Include julia-made performance tests, FFTW library\n",
    "using BenchmarkTools, FFTW, TimerOutputs;"
   ]
  },
  {
   "cell_type": "code",
   "execution_count": 4,
   "metadata": {},
   "outputs": [],
   "source": [
    "# Parameters\n",
    "\n",
    "nx = ny = 100; # lattice size\n",
    "\n",
    "rinit = 10; # initial skyrmion radius\n",
    "drinit = 0; # initial distance b/w skyrmion antiskyrmion\n",
    "\n",
    "j = 1.0; h = 0.0; dmi = 0.0; pma = 0.1; ed = 0.00795775;\n",
    "pbc = false;\n",
    "params = [j, h, dmi, pma, ed, pbc];\n",
    "\n",
    "# Storage\n",
    "matx = zeros(nx,ny);\n",
    "resfft = zeros(nx,ny);\n",
    "\n",
    "vdd = vddMatrices(nx, ny); # get [VDxx, VDyy, VDzz, VDxy]"
   ]
  },
  {
   "cell_type": "code",
   "execution_count": 5,
   "metadata": {},
   "outputs": [],
   "source": [
    "# build a skyrmion, and make pointer to just x components\n",
    "s0 = buildInitial(rinit, drinit, nx, ny);\n",
    "matx = s0[1,:,:];"
   ]
  },
  {
   "cell_type": "code",
   "execution_count": 17,
   "metadata": {},
   "outputs": [
    {
     "name": "stdout",
     "output_type": "stream",
     "text": [
      "  1.648 ms (188 allocations: 4.36 MiB)\n"
     ]
    }
   ],
   "source": [
    "# Timing convolution\n",
    "nx = ny = 100\n",
    "vdd = vddMatrices(nx, ny);\n",
    "s0 = buildInitial(rinit, drinit, nx, ny);\n",
    "matx = s0[1,:,:];\n",
    "\n",
    "@btime convfft(matx, vdd[1]);"
   ]
  },
  {
   "cell_type": "code",
   "execution_count": 18,
   "metadata": {},
   "outputs": [
    {
     "name": "stdout",
     "output_type": "stream",
     "text": [
      "  1.320 ms (188 allocations: 4.36 MiB)\n"
     ]
    }
   ],
   "source": [
    "# Timing convolution with multiple threads\n",
    "FFTW.set_num_threads(2);  # select number of threads in FFT computation\n",
    "@btime convfft(matx, vdd[1]);"
   ]
  },
  {
   "cell_type": "code",
   "execution_count": 21,
   "metadata": {},
   "outputs": [
    {
     "name": "stdout",
     "output_type": "stream",
     "text": [
      "  7.986 ms (1011 allocations: 22.87 MiB)\n"
     ]
    }
   ],
   "source": [
    "# Timing FHD (5 convolutions)\n",
    "@btime FHD(s0, vdd);"
   ]
  },
  {
   "cell_type": "code",
   "execution_count": 11,
   "metadata": {},
   "outputs": [
    {
     "name": "stdout",
     "output_type": "stream",
     "text": [
      "  89.973 μs (1 allocation: 16 bytes)\n"
     ]
    }
   ],
   "source": [
    "# Timing calculate energy\n",
    "# Change any parameter to see different compuation speed\n",
    "nx = ny = 100;\n",
    "j = 1.0; h = 0.0; dmi = 0.0; pma = 0.1; ed = 0.0;\n",
    "\n",
    "params = [j, h, dmi, pma, ed, pbc];\n",
    "s0 = buildInitial(rinit, drinit, nx, ny);\n",
    "\n",
    "@btime calcEnergy(s0, params);"
   ]
  },
  {
   "cell_type": "code",
   "execution_count": 14,
   "metadata": {},
   "outputs": [
    {
     "name": "stdout",
     "output_type": "stream",
     "text": [
      "  301.648 μs (4 allocations: 468.91 KiB)\n"
     ]
    }
   ],
   "source": [
    "# Timing effective field\n",
    "nx = ny = 100;\n",
    "j = 1.0; h = 0.0; dmi = 0.0; pma = 0.1; ed = 0.0;\n",
    "\n",
    "params = [j, h, dmi, pma, ed, pbc];\n",
    "s0 = buildInitial(rinit, drinit, nx, ny);\n",
    "\n",
    "eff = Array{Float64}(undef,3) # initialize storage for effField\n",
    "\n",
    "@btime getFullEffField!(s0,eff,params);"
   ]
  },
  {
   "cell_type": "code",
   "execution_count": 23,
   "metadata": {},
   "outputs": [
    {
     "name": "stdout",
     "output_type": "stream",
     "text": [
      "  3.844 s (211612 allocations: 5.21 GiB)\n"
     ]
    }
   ],
   "source": [
    "# Timing effective field\n",
    "nx = ny = 100;\n",
    "j = 1.0; h = 0.0; dmi = 0.0; pma = 0.1; ed = 0.00795775;\n",
    "\n",
    "params = [j, h, dmi, pma, ed, pbc];\n",
    "s0 = buildInitial(rinit, drinit, nx, ny);\n",
    "\n",
    "@btime rk4!(10.0, s0, RHS!, 50, 0.0, params);"
   ]
  },
  {
   "cell_type": "code",
   "execution_count": null,
   "metadata": {},
   "outputs": [],
   "source": []
  }
 ],
 "metadata": {
  "kernelspec": {
   "display_name": "Julia 1.0.4",
   "language": "julia",
   "name": "julia-1.0"
  },
  "language_info": {
   "file_extension": ".jl",
   "mimetype": "application/julia",
   "name": "julia",
   "version": "1.0.4"
  }
 },
 "nbformat": 4,
 "nbformat_minor": 2
}
